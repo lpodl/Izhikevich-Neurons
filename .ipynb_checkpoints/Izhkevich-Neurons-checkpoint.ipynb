{
 "cells": [
  {
   "cell_type": "markdown",
   "metadata": {},
   "source": [
    "# Dynamics of the Izhikevich Model"
   ]
  },
  {
   "cell_type": "code",
   "execution_count": 5,
   "metadata": {},
   "outputs": [],
   "source": [
    "import numpy as np\n",
    "import matplotlib.pyplot as plt\n",
    "%matplotlib inline"
   ]
  },
  {
   "cell_type": "code",
   "execution_count": 76,
   "metadata": {},
   "outputs": [],
   "source": [
    "from scipy.signal import argrelmax\n",
    "\n",
    "def reset(p, v, u, i):\n",
    "    \"\"\"resets the values for v and u at a given index\"\"\"\n",
    "    v[i] = p['c']\n",
    "    u[i] += p['d']\n",
    "    \n",
    "def neuron(p, I, t_max, dt):\n",
    "    \"\"\" returns the membrane potential during a given time approximated with the euler method\n",
    "    p : dictionary, contains the parameters a, b, c, d\n",
    "    I : function, I(t) is the current at time t in pA\n",
    "    t_max : float, time length of the simulation in ms\n",
    "    dt : float, time step in ms\n",
    "    \"\"\"\n",
    "    # create arrays for t, u and v\n",
    "    # u0 and v0 were given in the exercise\n",
    "    t = np.arange(0, t_max, dt)\n",
    "    u = np.zeros((len(t),1))\n",
    "    u[0] = 0\n",
    "    v = np.zeros((len(t),1))\n",
    "    v[0] = -80\n",
    "    for i in range(len(t)-1):\n",
    "        if v[i] >= 30:\n",
    "            reset(p, v, u, i)\n",
    "        u[i+1] = u[i] + dt * p['a'] * (p['b'] * v[i] - u[i])\n",
    "        v[i+1] = v[i] + dt * (0.04 * (v[i])**2 + 5 * v[i] + 140 - u[i] + I(t[i])) \n",
    "    return t, v\n",
    "\n",
    "def neuron_fires(p, I):\n",
    "    \"\"\"returns whether the neuron fires with parameters p and current I or not\"\"\"\n",
    "    t, v = neuron(p, I, 100, 0.1)\n",
    "    return bool(np.max(v) > 0)\n",
    "\n",
    "def find_threshold(p, acc):\n",
    "    \"\"\"finds the threshold needed for the neuron to fire with a given accuracy\"\"\"\n",
    "    # setup arbitray binary search borders\n",
    "    left = 0\n",
    "    right = 50\n",
    "    while right - left >= acc:\n",
    "        mid = (left + right) / 2\n",
    "        I = lambda t : mid\n",
    "        if neuron_fires(p, I):\n",
    "            right = mid\n",
    "        else:\n",
    "            left = mid\n",
    "    return left\n",
    "\n",
    "def firing_rate(current):\n",
    "    \"\"\"computes the firing rate in kHz given an input current I\"\"\"\n",
    "    t_max = 250\n",
    "    dt = 0.1\n",
    "    I = lambda t : current\n",
    "    t, v = neuron(p, I, t_max, dt)\n",
    "    spikes = argrelmax(v)\n",
    "    if len(spikes) == 1:\n",
    "        return 0\n",
    "    else:\n",
    "        return dt * (spikes[0][-1] - spikes[0][0]) / (len(spikes[0])-1)"
   ]
  },
  {
   "cell_type": "code",
   "execution_count": 97,
   "metadata": {},
   "outputs": [
    {
     "name": "stdout",
     "output_type": "stream",
     "text": [
      "The minimum current needed to activate the neuron is about 13.16.\n"
     ]
    },
    {
     "data": {
      "image/png": "[encoded data removed]",
      "text/plain": [
       "<Figure size 432x288 with 1 Axes>"
      ]
     },
     "metadata": {
      "needs_background": "light"
     },
     "output_type": "display_data"
    }
   ],
   "source": [
    "# 1. integrator parameters\n",
    "p = {\n",
    "    'a': 0.1,\n",
    "    'b': 0.05,\n",
    "    'c': -50,\n",
    "    'd': 8\n",
    "}\n",
    "# determine threshold\n",
    "I_thresh = find_threshold(p, 0.001)\n",
    "print(f'The minimum current needed to activate the neuron is about {np.round(I_thresh, 3)}.')\n",
    "\n",
    "# setup current range and plot firing rates\n",
    "t_max = 400\n",
    "dt  = 0.01\n",
    "currents = np.arange(I_thresh, I_thresh + 1.5, 0.1)\n",
    "firing_rates = np.vectorize(firing_rate)(currents)\n",
    "\n",
    "plt.plot(currents, firing_rates)\n",
    "plt.title('Firing rates as a function of the input current')\n",
    "plt.xlabel('Input current in ')\n",
    "plt.ylabel('firing rate in kHz')\n",
    "plt.show()"
   ]
  },
  {
   "cell_type": "code",
   "execution_count": 98,
   "metadata": {},
   "outputs": [
    {
     "data": {
      "image/png": "[encoded data removed]",
      "text/plain": [
       "<Figure size 432x288 with 1 Axes>"
      ]
     },
     "metadata": {
      "needs_background": "light"
     },
     "output_type": "display_data"
    }
   ],
   "source": [
    "# sinosodial input current\n",
    "t_max = 100\n",
    "dt = 0.1\n",
    "I_thresh = find_threshold(p, 0.001)\n",
    "def sinosoidal_current(w):\n",
    "    return lambda t : I_thresh - 0.05 + 0.04 * np.sin(w*t)\n",
    "\n",
    "omegas = np.arange(0.1, 0.3, 0.1)\n",
    "for w in omegas:\n",
    "    I = sinosoidal_current(w)\n",
    "    t, v = neuron(p, I, t_max, dt)\n",
    "    plt.plot(t, v)"
   ]
  },
  {
   "cell_type": "code",
   "execution_count": null,
   "metadata": {},
   "outputs": [],
   "source": []
  }
 ],
 "metadata": {
  "kernelspec": {
   "display_name": "Python 3",
   "language": "python",
   "name": "python3"
  },
  "language_info": {
   "codemirror_mode": {
    "name": "ipython",
    "version": 3
   },
   "file_extension": ".py",
   "mimetype": "text/x-python",
   "name": "python",
   "nbconvert_exporter": "python",
   "pygments_lexer": "ipython3",
   "version": "3.7.3"
  }
 },
 "nbformat": 4,
 "nbformat_minor": 2
}
